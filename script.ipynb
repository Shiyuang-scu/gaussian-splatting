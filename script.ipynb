{
 "cells": [
  {
   "cell_type": "code",
   "execution_count": 23,
   "metadata": {},
   "outputs": [],
   "source": [
    "import os\n",
    "import open3d as o3d\n",
    "import numpy as np\n",
    "from plyfile import PlyData, PlyElement\n",
    "from torch import nn\n",
    "import torch\n",
    "from errno import EEXIST\n",
    "import math\n",
    "from matplotlib import pyplot as plt\n",
    "import json"
   ]
  },
  {
   "cell_type": "markdown",
   "metadata": {},
   "source": [
    "# Util"
   ]
  },
  {
   "cell_type": "code",
   "execution_count": 15,
   "metadata": {},
   "outputs": [],
   "source": [
    "class GaussianModel:\n",
    "\n",
    "    def __init__(self, sh_degree : int):\n",
    "        self.active_sh_degree = 0\n",
    "        self.max_sh_degree = sh_degree  \n",
    "        self._xyz = torch.empty(0)\n",
    "        self._features_dc = torch.empty(0)\n",
    "        self._features_rest = torch.empty(0)\n",
    "        self._scaling = torch.empty(0)\n",
    "        self._rotation = torch.empty(0)\n",
    "        self._opacity = torch.empty(0)\n",
    "        self._normal = torch.empty(0)\n",
    "        self.max_radii2D = torch.empty(0)\n",
    "        self.xyz_gradient_accum = torch.empty(0)\n",
    "        self.denom = torch.empty(0)\n",
    "        self.optimizer = None\n",
    "        self.percent_dense = 0\n",
    "        self.spatial_lr_scale = 0\n",
    "\n",
    "    def save_ply(self, path):\n",
    "\n",
    "        xyz = self._xyz.detach().cpu().numpy()\n",
    "        # normals = np.zeros_like(xyz)\n",
    "        normals = self._normal.detach().cpu().numpy()\n",
    "        f_dc = self._features_dc.detach().transpose(1, 2).flatten(start_dim=1).contiguous().cpu().numpy()\n",
    "        f_rest = self._features_rest.detach().transpose(1, 2).flatten(start_dim=1).contiguous().cpu().numpy()\n",
    "        opacities = self._opacity.detach().cpu().numpy()\n",
    "        scale = self._scaling.detach().cpu().numpy()\n",
    "        rotation = self._rotation.detach().cpu().numpy()\n",
    "\n",
    "        dtype_full = [(attribute, 'f4') for attribute in self.construct_list_of_attributes()]\n",
    "\n",
    "        elements = np.empty(xyz.shape[0], dtype=dtype_full)\n",
    "        attributes = np.concatenate((xyz, normals, f_dc, f_rest, opacities, scale, rotation), axis=1)\n",
    "        elements[:] = list(map(tuple, attributes))\n",
    "        el = PlyElement.describe(elements, 'vertex')\n",
    "        PlyData([el]).write(path)\n",
    "\n",
    "    def load_ply(self, path):\n",
    "        plydata = PlyData.read(path)\n",
    "\n",
    "        xyz = np.stack((np.asarray(plydata.elements[0][\"x\"]),\n",
    "                        np.asarray(plydata.elements[0][\"y\"]),\n",
    "                        np.asarray(plydata.elements[0][\"z\"])),  axis=1)\n",
    "        normals = np.stack((np.asarray(plydata.elements[0][\"nx\"]),\n",
    "                            np.asarray(plydata.elements[0][\"ny\"]),\n",
    "                            np.asarray(plydata.elements[0][\"nz\"])),  axis=1)\n",
    "        opacities = np.asarray(plydata.elements[0][\"opacity\"])[..., np.newaxis]\n",
    "\n",
    "        features_dc = np.zeros((xyz.shape[0], 3, 1))\n",
    "        features_dc[:, 0, 0] = np.asarray(plydata.elements[0][\"f_dc_0\"])\n",
    "        features_dc[:, 1, 0] = np.asarray(plydata.elements[0][\"f_dc_1\"])\n",
    "        features_dc[:, 2, 0] = np.asarray(plydata.elements[0][\"f_dc_2\"])\n",
    "\n",
    "        extra_f_names = [p.name for p in plydata.elements[0].properties if p.name.startswith(\"f_rest_\")]\n",
    "        extra_f_names = sorted(extra_f_names, key = lambda x: int(x.split('_')[-1]))\n",
    "        assert len(extra_f_names)==3*(self.max_sh_degree + 1) ** 2 - 3\n",
    "        features_extra = np.zeros((xyz.shape[0], len(extra_f_names)))\n",
    "        for idx, attr_name in enumerate(extra_f_names):\n",
    "            features_extra[:, idx] = np.asarray(plydata.elements[0][attr_name])\n",
    "        # Reshape (P,F*SH_coeffs) to (P, F, SH_coeffs except DC)\n",
    "        features_extra = features_extra.reshape((features_extra.shape[0], 3, (self.max_sh_degree + 1) ** 2 - 1))\n",
    "\n",
    "        scales = self._extracted_from_load_ply_26(plydata, \"scale_\", xyz)\n",
    "        rots = self._extracted_from_load_ply_26(plydata, \"rot\", xyz)\n",
    "        self._xyz = torch.tensor(xyz, dtype=torch.float, device=\"cpu\")\n",
    "        self._normal = torch.tensor(normals, dtype=torch.float, device=\"cpu\")\n",
    "        self._features_dc = torch.tensor(features_dc, dtype=torch.float, device=\"cpu\").transpose(1, 2).contiguous()\n",
    "        self._features_rest = torch.tensor(features_extra, dtype=torch.float, device=\"cpu\").transpose(1, 2).contiguous()\n",
    "        self._opacity = torch.tensor(opacities, dtype=torch.float, device=\"cpu\")\n",
    "        self._scaling = torch.tensor(scales, dtype=torch.float, device=\"cpu\")\n",
    "        self._rotation = torch.tensor(rots, dtype=torch.float, device=\"cpu\")\n",
    "\n",
    "        self.active_sh_degree = self.max_sh_degree\n",
    "\n",
    "    def _extracted_from_load_ply_26(self, plydata, arg1, xyz):\n",
    "        scale_names = [\n",
    "            p.name\n",
    "            for p in plydata.elements[0].properties\n",
    "            if p.name.startswith(arg1)\n",
    "        ]\n",
    "        scale_names = sorted(scale_names, key = lambda x: int(x.split('_')[-1]))\n",
    "        result = np.zeros((xyz.shape[0], len(scale_names)))\n",
    "        for idx, attr_name in enumerate(scale_names):\n",
    "            result[:, idx] = np.asarray(plydata.elements[0][attr_name])\n",
    "\n",
    "        return result\n",
    "\n",
    "    def construct_list_of_attributes(self):\n",
    "        l = ['x', 'y', 'z', 'nx', 'ny', 'nz']\n",
    "        # All channels except the 3 DC\n",
    "        l.extend(\n",
    "            f'f_dc_{i}'\n",
    "            for i in range(self._features_dc.shape[1] * self._features_dc.shape[2])\n",
    "        )\n",
    "        l.extend(\n",
    "            f'f_rest_{i}'\n",
    "            for i in range(\n",
    "                self._features_rest.shape[1] * self._features_rest.shape[2]\n",
    "            )\n",
    "        )\n",
    "        l.append('opacity')\n",
    "        l.extend(f'scale_{i}' for i in range(self._scaling.shape[1]))\n",
    "        l.extend(f'rot_{i}' for i in range(self._rotation.shape[1]))\n",
    "        return l\n",
    "    \n"
   ]
  },
  {
   "cell_type": "markdown",
   "metadata": {},
   "source": [
    "# Working on a dataset \"The VR-NeRF Eyeful Tower Dataset\". \n",
    "\n",
    "- https://github.com/facebookresearch/EyefulTower?tab=readme-ov-file\n",
    "- This dataset is originally used for NeRF. "
   ]
  },
  {
   "cell_type": "code",
   "execution_count": 26,
   "metadata": {},
   "outputs": [],
   "source": [
    "'''\n",
    "1. Move all the images from different cameras into the same file\n",
    "2. Downsample the number of dataset\n",
    "2. Convert all the images to executable format for 3DGS\n",
    "'''\n",
    "\n",
    "dataset_dir = \"/home/yuang/Desktop/3d_gaussian_splat/dataset/source/eyefultower/apartment/images-jpeg-2k\"\n",
    "input_dir = \"/home/yuang/Desktop/3d_gaussian_splat/dataset/source/eyefultower/apartment/input\""
   ]
  },
  {
   "cell_type": "code",
   "execution_count": 27,
   "metadata": {},
   "outputs": [],
   "source": [
    "# # for each dir in dataset_dir, move all files with extension .jpg in the dir to input_dir\n",
    "# for dir in os.listdir(dataset_dir):\n",
    "#     if os.path.isdir(os.path.join(dataset_dir, dir)):\n",
    "#         for file in os.listdir(os.path.join(dataset_dir, dir)):\n",
    "#             if file.endswith(\".jpg\"):\n",
    "#                 os.rename(os.path.join(dataset_dir, dir, file), os.path.join(input_dir, file))\n",
    "#                 print(f\"move {file} to {input_dir}\")"
   ]
  },
  {
   "cell_type": "code",
   "execution_count": null,
   "metadata": {},
   "outputs": [],
   "source": [
    "# uniformly select n images from the input_dir over all the images, not randomly\n",
    "n = 1750\n",
    "selected_files = []\n",
    "input_files = os.listdir(input_dir)\n",
    "input_files.sort()\n",
    "# selected_files = input_files[::math.ceil((len(input_files)/n))]\n",
    "interval = len(input_files) / n\n",
    "index = 0\n",
    "while len(selected_files) < n and index < len(input_files):\n",
    "    selected_files.append(input_files[int(index)])\n",
    "    index += interval\n",
    "\n",
    "\n",
    "# **copy** the selected images to a new dir\n",
    "output_dir = f\"/home/yuang/Desktop/3d_gaussian_splat/dataset/source/eyefultower/apartment_{n}/input\"\n",
    "try:\n",
    "    os.makedirs(output_dir)\n",
    "except OSError as e:\n",
    "    if e.errno != EEXIST:\n",
    "        raise\n",
    "for file in selected_files:\n",
    "    os.system(f\"cp {os.path.join(input_dir, file)} {output_dir}\")\n",
    "    print(f\"copy {file} to {output_dir}\")\n"
   ]
  },
  {
   "cell_type": "code",
   "execution_count": null,
   "metadata": {},
   "outputs": [],
   "source": [
    "# convert the images to executable format\n",
    "# python convert.py -s {the parent dir of input_dir}\n",
    "# os.system(f\"python convert.py -s {os.path.dirname(input_dir)}\")"
   ]
  },
  {
   "cell_type": "code",
   "execution_count": null,
   "metadata": {},
   "outputs": [],
   "source": []
  },
  {
   "cell_type": "markdown",
   "metadata": {},
   "source": [
    "# Data distribution of 3DGS"
   ]
  },
  {
   "cell_type": "code",
   "execution_count": 16,
   "metadata": {},
   "outputs": [],
   "source": [
    "gs = GaussianModel(3)\n",
    "gs.load_ply(\"/Users/yuangshi/Documents/PhD/3DGS/point_cloud.ply\")"
   ]
  },
  {
   "cell_type": "code",
   "execution_count": 17,
   "metadata": {},
   "outputs": [
    {
     "data": {
      "text/plain": [
       "(torch.Size([3405153, 3]),\n",
       " torch.Size([3405153, 1, 3]),\n",
       " torch.Size([3405153, 15, 3]),\n",
       " torch.Size([3405153, 1]),\n",
       " torch.Size([3405153, 3]),\n",
       " torch.Size([3405153, 4]))"
      ]
     },
     "execution_count": 17,
     "metadata": {},
     "output_type": "execute_result"
    }
   ],
   "source": [
    "gs._xyz.shape, gs._features_dc.shape, gs._features_rest.shape, gs._opacity.shape, gs._scaling.shape, gs._rotation.shape"
   ]
  },
  {
   "cell_type": "code",
   "execution_count": 18,
   "metadata": {},
   "outputs": [],
   "source": [
    "position = gs._xyz\n",
    "features_dc = gs._features_dc\n",
    "features_rest = gs._features_rest\n",
    "opacity = gs._opacity\n",
    "scaling = gs._scaling\n",
    "rotation = gs._rotation\n"
   ]
  },
  {
   "cell_type": "code",
   "execution_count": 19,
   "metadata": {},
   "outputs": [],
   "source": [
    "x = position[:, 0]\n",
    "y = position[:, 1]\n",
    "z = position[:, 2]\n"
   ]
  },
  {
   "cell_type": "code",
   "execution_count": 20,
   "metadata": {},
   "outputs": [
    {
     "data": {
      "image/png": "[encoded data removed]",
      "text/plain": [
       "<Figure size 1080x360 with 3 Axes>"
      ]
     },
     "metadata": {
      "needs_background": "light"
     },
     "output_type": "display_data"
    }
   ],
   "source": [
    "# get the CDF of x, y, z separately\n",
    "\n",
    "fig, axs = plt.subplots(1, 3, figsize=(15, 5))\n",
    "axs[0].hist(x, bins=100, cumulative=True, density=True)\n",
    "axs[0].set_title('x')\n",
    "axs[1].hist(y, bins=100, cumulative=True, density=True)\n",
    "axs[1].set_title('y')\n",
    "axs[2].hist(z, bins=100, cumulative=True, density=True)\n",
    "axs[2].set_title('z')\n",
    "plt.show()\n"
   ]
  },
  {
   "cell_type": "code",
   "execution_count": 21,
   "metadata": {},
   "outputs": [
    {
     "data": {
      "image/png": "[encoded data removed]",
      "text/plain": [
       "<Figure size 1080x360 with 3 Axes>"
      ]
     },
     "metadata": {
      "needs_background": "light"
     },
     "output_type": "display_data"
    }
   ],
   "source": [
    "# get the histograms to plot the distribution of feature_rest\n",
    "\n",
    "f_rest = features_rest.flatten(start_dim=1).contiguous()\n",
    "f_rest = f_rest.detach().cpu().numpy()\n",
    "\n",
    "fig, axs = plt.subplots(1, 3, figsize=(15, 5))\n",
    "axs[0].hist(f_rest[:, 0], bins=100, cumulative=True, density=True)\n",
    "axs[0].set_title('f_rest_0')\n",
    "axs[1].hist(f_rest[:, 1], bins=100, cumulative=True, density=True)\n",
    "axs[1].set_title('f_rest_1')\n",
    "axs[2].hist(f_rest[:, 2], bins=100, cumulative=True, density=True)\n",
    "axs[2].set_title('f_rest_2')\n",
    "plt.show()\n",
    "\n"
   ]
  },
  {
   "cell_type": "code",
   "execution_count": 22,
   "metadata": {},
   "outputs": [
    {
     "data": {
      "image/png": "[encoded data removed]",
      "text/plain": [
       "<Figure size 1080x360 with 3 Axes>"
      ]
     },
     "metadata": {
      "needs_background": "light"
     },
     "output_type": "display_data"
    }
   ],
   "source": [
    "# get the histograms to plot the distribution of scale\n",
    "\n",
    "scales = scaling.detach().cpu().numpy()\n",
    "\n",
    "fig, axs = plt.subplots(1, 3, figsize=(15, 5))\n",
    "axs[0].hist(scales[:, 0], bins=100, cumulative=True, density=True)\n",
    "axs[0].set_title('scale_0')\n",
    "axs[1].hist(scales[:, 1], bins=100, cumulative=True, density=True)\n",
    "axs[1].set_title('scale_1')\n",
    "axs[2].hist(scales[:, 2], bins=100, cumulative=True, density=True)\n",
    "axs[2].set_title('scale_2')\n",
    "plt.show()\n"
   ]
  },
  {
   "cell_type": "markdown",
   "metadata": {},
   "source": [
    "# Using quantization to make distorted 3DGS\n",
    "\n",
    "- Perform quantization on bit depth to make distorted 3DGS."
   ]
  },
  {
   "cell_type": "code",
   "execution_count": 51,
   "metadata": {},
   "outputs": [],
   "source": [
    "\n",
    "def quantize_array(arr, bit_depth):\n",
    "    # Calculate the maximum value based on the desired bit depth\n",
    "    max_value = (2 ** bit_depth) - 1\n",
    "\n",
    "    return np.round(arr * max_value) / max_value"
   ]
  },
  {
   "cell_type": "code",
   "execution_count": 55,
   "metadata": {},
   "outputs": [],
   "source": [
    "# we group the features into three groups: \n",
    "    # 1. position: xyz, \n",
    "    # 2. color: normal, features_dc, features_rest, opacity\n",
    "    # 3. size: scaling, rotation\n",
    "\n",
    "path = \"/home/yuang/Desktop/3d_gaussian_splat/dataset/pre-trained_model/drjohnson/point_cloud/iteration_30000/point_cloud.ply\"\n",
    "max_sh_degree = 3\n",
    "\n",
    "gm = GaussianModel(max_sh_degree)\n",
    "gm.load_ply(path)\n",
    "\n",
    "# quantize the features in each group separately, and save the quantized features to a ply file\n",
    "bit_depth = 4\n",
    "quantized_xyz = quantize_array(gm._xyz.detach().cpu().numpy(), bit_depth)\n",
    "quantized_normal = quantize_array(gm._normal.detach().cpu().numpy(), bit_depth)\n",
    "quantized_features_dc = quantize_array(gm._features_dc.detach().cpu().numpy(), bit_depth)\n",
    "quantized_features_rest = quantize_array(gm._features_rest.detach().cpu().numpy(), bit_depth)\n",
    "quantized_opacity = quantize_array(gm._opacity.detach().cpu().numpy(), bit_depth)\n",
    "quantized_scaling = quantize_array(gm._scaling.detach().cpu().numpy(), bit_depth)\n",
    "quantized_rotation = quantize_array(gm._rotation.detach().cpu().numpy(), bit_depth)\n",
    "\n",
    "# save the quantized features to a ply file\n",
    "quantize_group_list = [\"position\", \"color\", \"size\"]\n",
    "for group in quantize_group_list:\n",
    "    if group == \"position\":\n",
    "        print(\"quantize position\")\n",
    "        gm.load_ply(path)\n",
    "        gm._xyz = nn.Parameter(torch.tensor(quantized_xyz, dtype=torch.float, device=\"cpu\"))\n",
    "        gm.save_ply(f\"/home/yuang/Desktop/3d_gaussian_splat/dataset/pre-trained_model/drjohnson/point_cloud/iteration_30000/point_cloud_{group}_quantized.ply\")\n",
    "    elif group == \"color\":\n",
    "        print(\"quantize color\")\n",
    "        gm.load_ply(path)\n",
    "        gm._normal = nn.Parameter(torch.tensor(quantized_normal, dtype=torch.float, device=\"cpu\"))\n",
    "        gm._features_dc = nn.Parameter(torch.tensor(quantized_features_dc, dtype=torch.float, device=\"cpu\"))\n",
    "        gm._features_rest = nn.Parameter(torch.tensor(quantized_features_rest, dtype=torch.float, device=\"cpu\"))\n",
    "        gm._opacity = nn.Parameter(torch.tensor(quantized_opacity, dtype=torch.float, device=\"cpu\"))\n",
    "        gm.save_ply(f\"/home/yuang/Desktop/3d_gaussian_splat/dataset/pre-trained_model/drjohnson/point_cloud/iteration_30000/point_cloud_{group}_quantized.ply\")\n",
    "    elif group == \"size\":\n",
    "        print(\"quantize size\")\n",
    "        gm.load_ply(path)\n",
    "        gm._scaling = nn.Parameter(torch.tensor(quantized_scaling, dtype=torch.float, device=\"cpu\"))\n",
    "        gm._rotation = nn.Parameter(torch.tensor(quantized_rotation, dtype=torch.float, device=\"cpu\"))\n",
    "        gm.save_ply(f\"/home/yuang/Desktop/3d_gaussian_splat/dataset/pre-trained_model/drjohnson/point_cloud/iteration_30000/point_cloud_{group}_quantized.ply\")"
   ]
  },
  {
   "cell_type": "markdown",
   "metadata": {},
   "source": []
  },
  {
   "cell_type": "code",
   "execution_count": null,
   "metadata": {},
   "outputs": [],
   "source": []
  },
  {
   "cell_type": "markdown",
   "metadata": {},
   "source": [
    "# Relation between dataset size and quality"
   ]
  },
  {
   "cell_type": "code",
   "execution_count": 33,
   "metadata": {},
   "outputs": [
    {
     "data": {
      "text/plain": [
       "{200: {'SSIM': 0.8912749886512756,\n",
       "  'PSNR': 27.785762786865234,\n",
       "  'LPIPS': 0.30192533135414124},\n",
       " 500: {'SSIM': 0.8879387378692627,\n",
       "  'PSNR': 27.838823318481445,\n",
       "  'LPIPS': 0.29194995760917664},\n",
       " 750: {'SSIM': 0.9007958173751831,\n",
       "  'PSNR': 28.790815353393555,\n",
       "  'LPIPS': 0.2802024483680725},\n",
       " 1000: {'SSIM': 0.9091089367866516,\n",
       "  'PSNR': 29.617361068725586,\n",
       "  'LPIPS': 0.2791915833950043},\n",
       " 1250: {'SSIM': 0.9075849056243896,\n",
       "  'PSNR': 29.6309814453125,\n",
       "  'LPIPS': 0.28103145956993103}}"
      ]
     },
     "execution_count": 33,
     "metadata": {},
     "output_type": "execute_result"
    }
   ],
   "source": [
    "root = \"/Volumes/Research/3dgs-dataset/apartment\"\n",
    "\n",
    "dataset_size_list = [200, 500, 750, 1000, 1250]\n",
    "size_quality_dict = {}\n",
    "\n",
    "for size in dataset_size_list:\n",
    "    input_dir = f\"{root}/{size}/results.json\"\n",
    "    results = json.load(open(input_dir)) # format like {'ours_1': {'SSIM': 0.8912749886512756, 'PSNR': 27.785762786865234, 'LPIPS': 0.30192533135414124}}\n",
    "    # read the SSIM, PSNR, LPIPS from the results\n",
    "    for key in results.keys():\n",
    "        size_quality_dict[size] = results[key] \n",
    "size_quality_dict"
   ]
  },
  {
   "cell_type": "code",
   "execution_count": 48,
   "metadata": {},
   "outputs": [
    {
     "data": {
      "image/png": "[encoded data removed]",
      "text/plain": [
       "<Figure size 1080x360 with 3 Axes>"
      ]
     },
     "metadata": {
      "needs_background": "light"
     },
     "output_type": "display_data"
    }
   ],
   "source": [
    "# plot the SSIM, PSNR, LPIPS against the dataset size\n",
    "fig, axs = plt.subplots(1, 3, figsize=(15, 5))\n",
    "\n",
    "axs[0].plot(size_quality_dict.keys(), [value['SSIM'] for value in size_quality_dict.values()], marker='o')\n",
    "axs[0].set_title('SSIM')\n",
    "axs[0].set_ylim(0.85, 0.93)\n",
    "\n",
    "axs[1].plot(size_quality_dict.keys(), [value['PSNR'] for value in size_quality_dict.values()], marker='o')\n",
    "axs[1].set_title('PSNR')\n",
    "axs[1].set_ylim(27, 30.5)\n",
    "\n",
    "axs[2].plot(size_quality_dict.keys(), [value['LPIPS'] for value in size_quality_dict.values()], marker='o')\n",
    "axs[2].set_title('LPIPS')\n",
    "axs[2].set_ylim(0.25, 0.35)\n",
    "\n",
    "plt.show()"
   ]
  },
  {
   "cell_type": "code",
   "execution_count": null,
   "metadata": {},
   "outputs": [],
   "source": []
  }
 ],
 "metadata": {
  "kernelspec": {
   "display_name": "gs",
   "language": "python",
   "name": "python3"
  },
  "language_info": {
   "codemirror_mode": {
    "name": "ipython",
    "version": 3
   },
   "file_extension": ".py",
   "mimetype": "text/x-python",
   "name": "python",
   "nbconvert_exporter": "python",
   "pygments_lexer": "ipython3",
   "version": "3.9.16"
  }
 },
 "nbformat": 4,
 "nbformat_minor": 2
}
